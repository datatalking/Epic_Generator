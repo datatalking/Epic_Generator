{
 "cells": [
  {
   "cell_type": "code",
   "execution_count": null,
   "metadata": {
    "collapsed": true,
    "pycharm": {
     "name": "#%%\n"
    }
   },
   "outputs": [],
   "source": [
    "# SOURCE https://www.productboard.com/glossary/user-story/\n",
    "# EXIST https://github.com/apps/epic-generator\n",
    "# EXPAND https://github.com/xalelax/pyter-pynciple\n",
    "# REFERENCE https://arxiv.org/pdf/0907.0455.pdf\n",
    "# README include ref #1 to 20 with formated README.rst for docker generation\n",
    "# RTM generation from SPHINX https://www.sphinx-doc.org/en/master/usage/quickstart.html\n",
    "\n"
   ]
  },
  {
   "cell_type": "code",
   "execution_count": null,
   "outputs": [],
   "source": [
    "!pip3 install datetime\n",
    "!pip3 install GitHub\n",
    "!pip3 install nltk"
   ],
   "metadata": {
    "collapsed": false,
    "pycharm": {
     "name": "#%%\n"
    }
   }
  },
  {
   "cell_type": "code",
   "execution_count": null,
   "outputs": [],
   "source": [
    "print(\"Question what parts of software epics can be automated?\")\n",
    "# input\n",
    "print(\"1. load a GitHub repo\"\n",
    "      \"2. scan for nessesary files for each stage of an epic\"\n",
    "      \"3. prompt user to self classify\"\n",
    "      \"4. use peter principle as the highest level = pyter-pynciple\"\n",
    "      \"5. scan for files README.md, README.rst, LICENSE\"\n",
    "      \"6. scan for folders SRC, DATA \")"
   ],
   "metadata": {
    "collapsed": false,
    "pycharm": {
     "name": "#%%\n"
    }
   }
  }
 ],
 "metadata": {
  "kernelspec": {
   "display_name": "Python 3",
   "language": "python",
   "name": "python3"
  },
  "language_info": {
   "codemirror_mode": {
    "name": "ipython",
    "version": 2
   },
   "file_extension": ".py",
   "mimetype": "text/x-python",
   "name": "python",
   "nbconvert_exporter": "python",
   "pygments_lexer": "ipython2",
   "version": "2.7.6"
  }
 },
 "nbformat": 4,
 "nbformat_minor": 0
}